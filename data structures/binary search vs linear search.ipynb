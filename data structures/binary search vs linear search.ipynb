{
 "cells": [
  {
   "cell_type": "code",
   "execution_count": 1,
   "metadata": {},
   "outputs": [],
   "source": [
    "\"\"\"\n",
    "Binary Search algorithm for iterables. \n",
    "\n",
    "Time complexity: O(log(n))\n",
    "\n",
    "\"\"\"\n",
    "\n",
    "def binary_search_algo(num, iterable):\n",
    "    idx = len(iterable)//2\n",
    "    if idx==1:\n",
    "        if iterable[idx] != num:\n",
    "            return False\n",
    "        else:\n",
    "            return True\n",
    "    if num<iterable[idx]:\n",
    "        return binary_search_algo(num, iterable[:idx])\n",
    "    elif num>iterable[idx]:\n",
    "        return binary_search_algo(num, iterable[idx:])\n",
    "    else:\n",
    "        return True\n",
    "   \n",
    "    return False\n",
    "\n",
    "def linear_search_algo(num, iterable):\n",
    "    for val in iterable:\n",
    "        if num == val:\n",
    "            return True\n",
    "        else:\n",
    "            continue\n",
    "    \n",
    "    return False\n"
   ]
  },
  {
   "cell_type": "code",
   "execution_count": 2,
   "metadata": {},
   "outputs": [
    {
     "name": "stdout",
     "output_type": "stream",
     "text": [
      "This binary search function took 0:00:03.743035 seconds to run for 100 million values\n",
      "This dumb search function took 0:00:02.806001 seconds to run for 100 million values\n"
     ]
    }
   ],
   "source": [
    "from datetime import datetime\n",
    "\n",
    "# analyze runtimes for ordered list up to 1 million and 500 million\n",
    "# assume worse case scenario number\n",
    "\n",
    "# interestingly, up the 1 million values the binary search is slower than the dumb search function\n",
    "start = datetime.now()\n",
    "binary_search_algo(100000000, list(range(0, 100000000)))\n",
    "end = datetime.now()\n",
    "print(\"This binary search function took {} seconds to run for 100 million values\".format(end-start))\n",
    "\n",
    "start2 = datetime.now()\n",
    "linear_search_algo(100000000, list(range(0, 100000000)))\n",
    "end2 = datetime.now()\n",
    "print(\"This dumb search function took {} seconds to run for 100 million values\".format(end2-start2))\n"
   ]
  },
  {
   "cell_type": "code",
   "execution_count": 5,
   "metadata": {},
   "outputs": [
    {
     "name": "stdout",
     "output_type": "stream",
     "text": [
      "This binary search function took 0:00:19.966002 seconds to run for 500 million values\n"
     ]
    }
   ],
   "source": [
    "# but for 500 million values binary search takes the lead. \n",
    "start = datetime.now()\n",
    "binary_search_algo(500000000, list(range(0, 500000000)))\n",
    "end = datetime.now()\n",
    "print(\"This binary search function took {} seconds to run for 500 million values\".format(end-start))\n",
    "\n",
    "start2 = datetime.now()\n",
    "linear_search_algo(500000000, list(range(0, 500000000)))\n",
    "end2 = datetime.now()\n",
    "print(\"This dumb search function took {} seconds to run for 10 million values\".format(end2-start2))"
   ]
  },
  {
   "cell_type": "code",
   "execution_count": 7,
   "metadata": {},
   "outputs": [
    {
     "name": "stdout",
     "output_type": "stream",
     "text": [
      "This binary search function took 0:01:25.446209 seconds to run for 500 million values\n",
      "This dumb search function took 0:03:34.357237 seconds to run for 10 million values\n"
     ]
    }
   ],
   "source": [
    "# but for 1 billion values binary search takes the lead. \n",
    "start = datetime.now()\n",
    "binary_search_algo(1000000000, list(range(0, 1000000000)))\n",
    "end = datetime.now()\n",
    "print(\"This binary search function took {} seconds to run for 1 billion values\".format(end-start))\n",
    "\n",
    "start2 = datetime.now()\n",
    "linear_search_algo(1000000000, list(range(0, 1000000000)))\n",
    "end2 = datetime.now()\n",
    "print(\"This dumb search function took {} seconds to run for 1 billion values\".format(end2-start2))"
   ]
  },
  {
   "cell_type": "code",
   "execution_count": null,
   "metadata": {},
   "outputs": [],
   "source": []
  }
 ],
 "metadata": {
  "kernelspec": {
   "display_name": "py37",
   "language": "python",
   "name": "py37"
  },
  "language_info": {
   "codemirror_mode": {
    "name": "ipython",
    "version": 3
   },
   "file_extension": ".py",
   "mimetype": "text/x-python",
   "name": "python",
   "nbconvert_exporter": "python",
   "pygments_lexer": "ipython3",
   "version": "3.7.1"
  }
 },
 "nbformat": 4,
 "nbformat_minor": 2
}
