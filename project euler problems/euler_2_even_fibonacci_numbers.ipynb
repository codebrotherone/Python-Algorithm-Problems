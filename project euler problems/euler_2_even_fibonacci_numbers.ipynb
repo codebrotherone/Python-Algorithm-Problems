{
 "cells": [
  {
   "cell_type": "code",
   "execution_count": 1,
   "metadata": {},
   "outputs": [
    {
     "name": "stdout",
     "output_type": "stream",
     "text": [
      "4613732\n"
     ]
    }
   ],
   "source": [
    "x=1\n",
    "y=2\n",
    "sum=0\n",
    "\n",
    "while(y<4000000):\n",
    "    if y%2==0:\n",
    "        sum+=y\n",
    "    # we need to do this\n",
    "    # in mult. assgnment\n",
    "    # python will calculate right side before\n",
    "    # setting variable values\n",
    "    x,y=y,x+y\n",
    "    \n",
    "\n",
    "\n",
    "print(sum)"
   ]
  },
  {
   "cell_type": "code",
   "execution_count": null,
   "metadata": {},
   "outputs": [],
   "source": []
  }
 ],
 "metadata": {
  "kernelspec": {
   "display_name": "Python 3",
   "language": "python",
   "name": "python3"
  },
  "language_info": {
   "codemirror_mode": {
    "name": "ipython",
    "version": 3
   },
   "file_extension": ".py",
   "mimetype": "text/x-python",
   "name": "python",
   "nbconvert_exporter": "python",
   "pygments_lexer": "ipython3",
   "version": "3.7.1"
  }
 },
 "nbformat": 4,
 "nbformat_minor": 2
}
